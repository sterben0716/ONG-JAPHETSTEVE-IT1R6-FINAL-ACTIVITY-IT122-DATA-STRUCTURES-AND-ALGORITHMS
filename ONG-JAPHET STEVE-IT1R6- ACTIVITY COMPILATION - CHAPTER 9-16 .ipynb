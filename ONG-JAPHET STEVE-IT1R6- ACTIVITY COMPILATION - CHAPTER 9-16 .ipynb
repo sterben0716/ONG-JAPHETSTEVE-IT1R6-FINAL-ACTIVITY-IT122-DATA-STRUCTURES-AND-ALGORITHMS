{
 "cells": [
  {
   "cell_type": "code",
   "execution_count": 6,
   "id": "cosmetic-tractor",
   "metadata": {
    "tags": []
   },
   "outputs": [
    {
     "name": "stdout",
     "output_type": "stream",
     "text": [
      "Discuss your learnings on Chapter 9 Minimum of 200 words\n",
      "Chapter 9 learnings are the following:\n",
      "A graph is a data structure made up of nodes and edges that is non-linear. The edges are lines or arcs that connect any two nodes in the graph, and the nodes are also known as vertices. Networks are represented using graphs. A graph, on the other hand, is a visual representation of a collection of items in which some pairs of items are linked by connections. The points that connect the interlinked items are called vertices, and the ties that connect the vertices are called edges. A graph is a data structure made up of a finite number of nodes (or vertices) and the edges that connect them. An edge is a pair (x,y) that indicates that the x and y vertices are connected. The vertices are represented by circles, while the edges are represented by lines in the examples. This is the FINITE, GRAPHINFINITE, GRAPHSIMPLE, GRAPHMULTI, GRAPHTRIVIAL, GRAPHNULL, graphcomplete graphpseudo graph SUB GRAPH.\n"
     ]
    }
   ],
   "source": [
    "print(\"Discuss your learnings on Chapter 9 Minimum of 200 words\")\n",
    "\n",
    "print(\"Chapter 9 learnings are the following:\")\n",
    "print(\"A graph is a data structure made up of nodes and edges that is non-linear. The edges are lines or arcs that connect any two nodes in the graph, and the nodes are also known as vertices. Networks are represented using graphs. A graph, on the other hand, is a visual representation of a collection of items in which some pairs of items are linked by connections. The points that connect the interlinked items are called vertices, and the ties that connect the vertices are called edges. A graph is a data structure made up of a finite number of nodes (or vertices) and the edges that connect them. An edge is a pair (x,y) that indicates that the x and y vertices are connected. The vertices are represented by circles, while the edges are represented by lines in the examples. This is the FINITE, GRAPHINFINITE, GRAPHSIMPLE, GRAPHMULTI, GRAPHTRIVIAL, GRAPHNULL, graphcomplete graphpseudo graph SUB GRAPH.\")\n"
   ]
  },
  {
   "cell_type": "code",
   "execution_count": 7,
   "id": "previous-grace",
   "metadata": {},
   "outputs": [
    {
     "name": "stdout",
     "output_type": "stream",
     "text": [
      "Discuss your learnings on Chapter 10 Minimum of 200 words\n",
      "Chapter 10 learnings are the following:\n",
      "The binary search algorithm is a fast search algorithm with an O run-time complexity (log n). This search algorithm is based on the divide-and-conquer strategy. The data collection should be in sorted form for this algorithm to perform effectively. Binary search compares the middle item in the collection to find a specific item. If a match is found, the item's index is returned. The item is searched in the sub-array to the left of the middle item if the middle item is greater than the item. Otherwise, look for the item in the sub-array to the right of the center item. This method is repeated on the sub-array until the subarray's size is reduced to zero.\n"
     ]
    }
   ],
   "source": [
    "print(\"Discuss your learnings on Chapter 10 Minimum of 200 words\")\n",
    "\n",
    "print(\"Chapter 10 learnings are the following:\")\n",
    "print(\"The binary search algorithm is a fast search algorithm with an O run-time complexity (log n). This search algorithm is based on the divide-and-conquer strategy. The data collection should be in sorted form for this algorithm to perform effectively. Binary search compares the middle item in the collection to find a specific item. If a match is found, the item's index is returned. The item is searched in the sub-array to the left of the middle item if the middle item is greater than the item. Otherwise, look for the item in the sub-array to the right of the center item. This method is repeated on the sub-array until the subarray's size is reduced to zero.\")\n"
   ]
  },
  {
   "cell_type": "code",
   "execution_count": 8,
   "id": "appointed-landing",
   "metadata": {},
   "outputs": [
    {
     "name": "stdout",
     "output_type": "stream",
     "text": [
      "Discuss your learnings on Chapter 11 Minimum of 200 words\n",
      "Chapter 11 learnings are the following:\n",
      "Bubble sort is a straightforward sorting method. This sorting method is a comparison-based algorithm in which each pair of adjacent elements is compared, and if they are not in order, the items are swapped. Because the average and worst case complexity of this technique are O(n2), where n is the number of items, it is not suitable for huge data sets. Bubble Sort is a simple algorithm for sorting a given set of data in the form of an array with a certain number of elements. Bubble Sort compares each element individually and sorts them according to their values. If an array must be sorted in ascending order, bubble sort will begin by comparing the first and second members of the array, swapping both elements if the first element is greater than the second, and then moving on to compare the second and third elements, and so on.\n"
     ]
    }
   ],
   "source": [
    "print(\"Discuss your learnings on Chapter 11 Minimum of 200 words\")\n",
    "\n",
    "print(\"Chapter 11 learnings are the following:\")\n",
    "print(\"Bubble sort is a straightforward sorting method. This sorting method is a comparison-based algorithm in which each pair of adjacent elements is compared, and if they are not in order, the items are swapped. Because the average and worst case complexity of this technique are O(n2), where n is the number of items, it is not suitable for huge data sets. Bubble Sort is a simple algorithm for sorting a given set of data in the form of an array with a certain number of elements. Bubble Sort compares each element individually and sorts them according to their values. If an array must be sorted in ascending order, bubble sort will begin by comparing the first and second members of the array, swapping both elements if the first element is greater than the second, and then moving on to compare the second and third elements, and so on.\")\n"
   ]
  },
  {
   "cell_type": "code",
   "execution_count": 9,
   "id": "affecting-notice",
   "metadata": {},
   "outputs": [
    {
     "name": "stdout",
     "output_type": "stream",
     "text": [
      "Discuss your learnings on Chapter 12 Minimum of 200 words\n",
      "Chapter 12 learnings are the following:\n",
      "Quick sort is an extremely efficient sorting technique that divides a large data array into smaller ones. A huge array is divided into two arrays, one of which contains values smaller than the provided value, say pivot, on which the partition is based, and the other of which contains values bigger than the pivot value. Quicksort divides an array into two subarrays and then calls itself recursively twice to sort the two subarrays. Quick Sort, like merge sort, is one of the different Sorting Techniques that is based on the notion of Divide and Conquer. In the case of a rapid sort, the combine step has no effect. This is referred to as partitioning in quick sort. It is not straightforward to divide an array into two subarrays, but in the case of partitioning, the array components are arranged so that all elements smaller than the pivot are on the left side and all elements greater than the pivot are on the right side.\n"
     ]
    }
   ],
   "source": [
    "print(\"Discuss your learnings on Chapter 12 Minimum of 200 words\")\n",
    "\n",
    "print(\"Chapter 12 learnings are the following:\")\n",
    "print(\"Quick sort is an extremely efficient sorting technique that divides a large data array into smaller ones. A huge array is divided into two arrays, one of which contains values smaller than the provided value, say pivot, on which the partition is based, and the other of which contains values bigger than the pivot value. Quicksort divides an array into two subarrays and then calls itself recursively twice to sort the two subarrays. Quick Sort, like merge sort, is one of the different Sorting Techniques that is based on the notion of Divide and Conquer. In the case of a rapid sort, the combine step has no effect. This is referred to as partitioning in quick sort. It is not straightforward to divide an array into two subarrays, but in the case of partitioning, the array components are arranged so that all elements smaller than the pivot are on the left side and all elements greater than the pivot are on the right side.\")\n"
   ]
  },
  {
   "cell_type": "code",
   "execution_count": 21,
   "id": "operating-admission",
   "metadata": {},
   "outputs": [
    {
     "name": "stdout",
     "output_type": "stream",
     "text": [
      "Discuss your learnings on Chapter 13 Minimum of 200 words\n",
      "Chapter 13 learnings are the following:\n",
      "This is a sorting algorithm that uses in-place comparisons. A sub-list is kept here that is always sorted. The lower part of an array, for example, is kept to be sorted. An element that needs to be inserted into this sorted sub-list must first locate its proper location before being inserted. As a result, the term insertion sort was coined. Unsorted items are moved and added into the sorted sub-list as the array is scanned progressively in the same array. Because the average and worst case complexity of this technique are On2, where n is the number of items, it is not suitable for huge data sets. Insertion sort is a straightforward sorting method that creates the final sorted array one item at a time. This algorithm is a straightforward method that is simple to comprehend and implement. This algorithm's steps are an iterative approach to a difficult problem that can be solved by repeating relatively simple stages. Consider the following scenario: you have a few cards in your hand, and you need to arrange them in the order of their rank. Check to see if the cards on the left side of your deck have been sorted. Then take the third card which hasn't been sorted yet and place it between the first two cards in the right order. We have two portions at any one time in this process: the left part, which is sorted, and the right portion, which is not. The sorted component grows larger with each round of insertions, and the process ends when the last card has been placed where it belongs and the entire hand has been sorted.\n"
     ]
    }
   ],
   "source": [
    "print(\"Discuss your learnings on Chapter 13 Minimum of 200 words\")\n",
    "\n",
    "print(\"Chapter 13 learnings are the following:\")\n",
    "print(\"This is a sorting algorithm that uses in-place comparisons. A sub-list is kept here that is always sorted. The lower part of an array, for example, is kept to be sorted. An element that needs to be inserted into this sorted sub-list must first locate its proper location before being inserted. As a result, the term insertion sort was coined. Unsorted items are moved and added into the sorted sub-list as the array is scanned progressively in the same array. Because the average and worst case complexity of this technique are On2, where n is the number of items, it is not suitable for huge data sets. Insertion sort is a straightforward sorting method that creates the final sorted array one item at a time. This algorithm is a straightforward method that is simple to comprehend and implement. This algorithm's steps are an iterative approach to a difficult problem that can be solved by repeating relatively simple stages. Consider the following scenario: you have a few cards in your hand, and you need to arrange them in the order of their rank. Check to see if the cards on the left side of your deck have been sorted. Then take the third card which hasn't been sorted yet and place it between the first two cards in the right order. We have two portions at any one time in this process: the left part, which is sorted, and the right portion, which is not. The sorted component grows larger with each round of insertions, and the process ends when the last card has been placed where it belongs and the entire hand has been sorted.\")\n"
   ]
  },
  {
   "cell_type": "code",
   "execution_count": 2,
   "id": "accessible-conversion",
   "metadata": {},
   "outputs": [
    {
     "name": "stdout",
     "output_type": "stream",
     "text": [
      "Discuss your learnings on Chapter 14 Minimum of 200 words\n",
      "Chapter 14 learnings are the following:\n",
      "Merge sorting is a widely used algorithm. To begin, divide the list into two groups of two, then split again into two groups of two, then divide again until the list is reduced to one, and then swap the numbers if the right number is greater than the left number. If it isn't, stay put and move on to the next one. If it's necessary to switch them, the following step is to merge and sort them into the array. The Merge algorithm has a time complexity of o (n log n). Write the items or array first, then add a function that you can call whatever you want. The first step is to determine the array's length. Add a while condition after that. Add an if else sentence inside the while condition. After that, attach. The difficulty with insertion sort is that it requires a lot of comparisons and swaps when little components are toward the end.\n"
     ]
    }
   ],
   "source": [
    "print(\"Discuss your learnings on Chapter 14 Minimum of 200 words\")\n",
    "\n",
    "print(\"Chapter 14 learnings are the following:\")\n",
    "print(\"Merge sorting is a widely used algorithm. To begin, divide the list into two groups of two, then split again into two groups of two, then divide again until the list is reduced to one, and then swap the numbers if the right number is greater than the left number. If it isn't, stay put and move on to the next one. If it's necessary to switch them, the following step is to merge and sort them into the array. The Merge algorithm has a time complexity of o (n log n). Write the items or array first, then add a function that you can call whatever you want. The first step is to determine the array's length. Add a while condition after that. Add an if else sentence inside the while condition. After that, attach. The difficulty with insertion sort is that it requires a lot of comparisons and swaps when little components are toward the end.\")\n"
   ]
  },
  {
   "cell_type": "code",
   "execution_count": 5,
   "id": "every-lafayette",
   "metadata": {},
   "outputs": [
    {
     "name": "stdout",
     "output_type": "stream",
     "text": [
      "Discuss your learnings on Chapter 15 Minimum of 200 words\n",
      "Chapter 15 learnings are the following:\n",
      "The shell sort is one of the most important algorithms. Shell sort is a more efficient version of insertion sort. A gap is used by Shell Sort. So it's the same as forming a sub array. Those sub arrays will be sorted first, followed by the following sub array with the same spacing and then sorting again. However, keep in mind that it is not yet completely sorted. However, you'll notice that all of the heavier pieces are on the right side, while the lesser elements are on the left. After that, you should be able to use insertion. It won't take as many swaps and comparisons with the help of shell sort. It is up to you to implement the gaps. It's entirely up to you whether you reduce it by one or two. However, there is one thing you must do: your gap must be at least one. You should begin by sorting sub arrays with gap = n/2. Continue to reduce the gap by n/2 and sort the sub arrays until they become one, at which point you can perform the insertion sort.\n"
     ]
    }
   ],
   "source": [
    "print(\"Discuss your learnings on Chapter 15 Minimum of 200 words\")\n",
    "\n",
    "print(\"Chapter 15 learnings are the following:\")\n",
    "print(\"The shell sort is one of the most important algorithms. Shell sort is a more efficient version of insertion sort. A gap is used by Shell Sort. So it's the same as forming a sub array. Those sub arrays will be sorted first, followed by the following sub array with the same spacing and then sorting again. However, keep in mind that it is not yet completely sorted. However, you'll notice that all of the heavier pieces are on the right side, while the lesser elements are on the left. After that, you should be able to use insertion. It won't take as many swaps and comparisons with the help of shell sort. It is up to you to implement the gaps. It's entirely up to you whether you reduce it by one or two. However, there is one thing you must do: your gap must be at least one. You should begin by sorting sub arrays with gap = n/2. Continue to reduce the gap by n/2 and sort the sub arrays until they become one, at which point you can perform the insertion sort.\")"
   ]
  },
  {
   "cell_type": "code",
   "execution_count": 23,
   "id": "spanish-denial",
   "metadata": {},
   "outputs": [
    {
     "name": "stdout",
     "output_type": "stream",
     "text": [
      "Discuss your learnings on Chapter 16 Minimum of 200 words\n",
      "Chapter 16 learnings are the following:\n",
      "Choosing Sort locates a candidate on the first position of the list, which is the smallest number. After you've found the first element, switch it out. and then move on to the next element, finding the second-best candidate for the second spot, which is the second-lowest number on the list, and swapping. The sorted and unsorted items should be on the left side. You simply need to repeat the processes till everything is sorted. The huge O complexity equals zero (n2). When you're coding, the first thing you should do is use a for loop to get the smallest value. Start with a large number, such as 100000 or anything you choose. . The array's range is then compared to the initialize value, and the minimum value is returned. Also, if your I any other variable name you give is already a minimum number, you don't need to switch it because it is already in the correct spot.\n"
     ]
    }
   ],
   "source": [
    "print(\"Discuss your learnings on Chapter 16 Minimum of 200 words\")\n",
    "\n",
    "print(\"Chapter 16 learnings are the following:\")\n",
    "print(\"Choosing Sort locates a candidate on the first position of the list, which is the smallest number. After you've found the first element, switch it out. and then move on to the next element, finding the second-best candidate for the second spot, which is the second-lowest number on the list, and swapping. The sorted and unsorted items should be on the left side. You simply need to repeat the processes till everything is sorted. The huge O complexity equals zero (n2). When you're coding, the first thing you should do is use a for loop to get the smallest value. Start with a large number, such as 100000 or anything you choose. . The array's range is then compared to the initialize value, and the minimum value is returned. Also, if your I any other variable name you give is already a minimum number, you don't need to switch it because it is already in the correct spot.\")\n"
   ]
  },
  {
   "cell_type": "code",
   "execution_count": 24,
   "id": "infinite-kernel",
   "metadata": {},
   "outputs": [
    {
     "name": "stdout",
     "output_type": "stream",
     "text": [
      "Discuss your learnings on Chapter 17 Minimum of 200 words\n",
      "Chapter 17 learnings are the following:\n",
      "Recursion is crucial because it allows you to split down large problems into smaller ones. The recursive solution is frequently easier to read than the iterative one. There are three steps in recursion: Divide the large difficulty into smaller, easier problems. The second step is to find a base condition that has a simple response, and the third step is to return the base condition response in order to solve all of the subproblems. If you have an issue, you can solve it by digging deeper into the code and debugging it. When writing a recursion, the first step is to create a function and then place the code within it. For example, if you want to discover the sum of 5, all you have to do is write the codes in the function return n + sum(n-1); of course, you'll need to include a base so it doesn't loop infinitely. If a condition is false, recursion will come to a halt and will not continue indefinitely.\n"
     ]
    }
   ],
   "source": [
    "print(\"Discuss your learnings on Chapter 17 Minimum of 200 words\")\n",
    "\n",
    "print(\"Chapter 17 learnings are the following:\")\n",
    "print(\"Recursion is crucial because it allows you to split down large problems into smaller ones. The recursive solution is frequently easier to read than the iterative one. There are three steps in recursion: Divide the large difficulty into smaller, easier problems. The second step is to find a base condition that has a simple response, and the third step is to return the base condition response in order to solve all of the subproblems. If you have an issue, you can solve it by digging deeper into the code and debugging it. When writing a recursion, the first step is to create a function and then place the code within it. For example, if you want to discover the sum of 5, all you have to do is write the codes in the function return n + sum(n-1); of course, you'll need to include a base so it doesn't loop infinitely. If a condition is false, recursion will come to a halt and will not continue indefinitely.\")"
   ]
  },
  {
   "cell_type": "code",
   "execution_count": 34,
   "id": "falling-forge",
   "metadata": {},
   "outputs": [
    {
     "name": "stdout",
     "output_type": "stream",
     "text": [
      " II Answer the following questions:\n",
      "\n",
      "1. Implement the simple methods get_num and get_den that will return the numerator and denominator of a fraction.\n",
      "\n",
      "Ans: def getNum(self): return self.num def getDen(self): return self.den\n",
      "\n",
      "2. Research the __radd__ method. How does it differ from __add__? When is it used? Implement __radd__\n",
      "\n",
      "Ans: def __radd__(self, other): if other == 0: return self else: other = Fraction(other, 1) return self.__add__(other)\n",
      "\n",
      "3. Research the __repr__ method. How does it differ from __str__? When is it used? Implement __repr__.\n",
      "\n",
      "Ans:def __repr__(self): return %s(%r) % (self.__class__, self.__str__()) def show(self): print(self.num, \"/\", self.den) \n",
      "\n",
      "4. The most simple arithmetic circuit is known as the half adder. Research the simple half-adder circuit. Implement this circuit.\n",
      "\n",
      "Ans: Half adder is a combinational circuit, which performs the addition of two binary numbers A and B are of single bit. It produces two outputs sum, S & carry, C. The Truth table of Half adder is shown below. Inputs Outputs A B C S 0 0 0 0 0 1 0 1 1 0 0 1 1 1 1 0\n",
      "\n",
      "5.Design a class to represent a playing card and another one to represent a deck of cards. Using these two classes, implement your favorite card game. \n",
      "\n",
      "Ans: When you initialize the Deck object, the two for loops of _init_ create Card objects representing all the cards in a 52-card deck and add them to the card list. The first loop goes from 2 to 15 because the first value of a card is 2 and the last value of a card is 14 (the ace). Each time around the inner loop, a new card is created using the integer from the outer loop as the value (i.e. 14 for an ace) and the integer from the inner loop as the suit. This process creates 52 cards – one card for each combination of suit and value. After the method creates the cards, the shuffle method of the shuffle module randomly rearranges the items in the card list; imitating the shuffle of a deck of cards. Our deck has another method called rm_card which removes and returns a card from the card list, or returns None if it is empty.\n",
      "\n",
      "7.Consider a real life situation. Formulate a question and then design a simulation that can help to answer it. Possible situations include:Cars lined up at a car washCustomers at a grocery store check-outAirplanes taking off and landing on a runwayA bank teller \n",
      "\n",
      "8.Implement a queue using linked lists.\n",
      "\n",
      " Ans: A linked list (LL) node # to store a queue entry class Node: def __init__(self, data): self.data = data self.next = None # A class to represent a queue # The queue, front stores the front node # of LL and rear stores the last node of LL class Queue: def __init__(self): self.front = self.rear = None def isEmpty(self): return self.front == None # Method to add an item to the queue def EnQueue(self, item): temp = Node(item) if self.rear == None: self.front = self.rear = temp return self.rear.next = temp self.rear = temp # Method to remove an item from queue def DeQueue(self): if self.isEmpty(): return temp = self.front self.front = temp.next if(self.front == None): self.rear = None # Driver Code if _name__== : q = Queue() q.EnQueue(10) q.EnQueue(20) q.DeQueue() q.DeQueue() q.EnQueue(30) q.EnQueue(40) q.EnQueue(50) q.DeQueue() print(\"Queue Front \" + str(q.front.data)) print\"Queue Rear \" + str(q.rear.data))\n",
      "\n",
      "9. Write a recursive function to compute the factorial of a number.\n",
      "\n",
      "Ans: def recur_factorial(n): if n == 1: return n else: return n*recur_factorial(n-1) num = 7 # check if the number is negative if num < 0: print(\"Sorry, factorial does not exist for negative numbers\") elif num == 0: print(\"The factorial of 0 is 1\") else: print(\"The factorial of\", num, \"is\", recur_factorial(num))\n",
      "\n",
      "10. Set up a random experiment to test the difference between a sequential search and a binary search on a list of integers.\n",
      "\n",
      "Ans:.\tWe toss a coin three times and observe the sequence of heads/tails. The sample space here may be defined as S={(H,H,H),(H,H,T),(H,T,H),(T,H,H),(H,T,T),(T,H,T),(T,T,H),(T,T,T)}. Our goal is to assign probability to certain events. For example, suppose that we would like to know the probability that the outcome of rolling a fair die is an even number. In this case, our event is the set E={2,4,6}. If the result of our random experiment belongs to the set E, we say that the event E has occurred. Thus an event is a collection of possible outcomes. In other words, an event is a subset of the sample space to which we assign a probability. Although we have not yet discussed how to find the probability of an event, you might be able to guess that the probability of {2,4,6} is 50 percent which is the same as 12 in the probability theory convention. Outcome: A result of a random experiment. Sample Space: The set of all possible outcomes. Event: A subset of the sample space.\n",
      "\n",
      "11.Suppose you are a computer scientist/art thief who has broken into a major art gallery. All you have with you to haul out your stolen art is your knapsack which only holds W pounds of art, but for every piece of art you know its value and its weight. Write a dynamic programming function to help you maximize your profit. Here is a sample problem for you to use to get started: Suppose your knapsack can hold a total weight of 20. You have 5 items as follows: \n",
      "\n",
      "This problem is called the string edit distance problem, and is quite useful in many areas of research. Suppose that you want to transform the word “algorithm” into the word “alligator.” For each letter you can either copy the letter from one word to another at a cost of 5, you can delete a letter at cost of 20, or insert a letter at a cost of 20. The total cost to transform one word into another is used by spell check programs to provide suggestions for words that are close to one another.\n"
     ]
    }
   ],
   "source": [
    "print(' II Answer the following questions:')\n",
    "print('')\n",
    "print('1. Implement the simple methods get_num and get_den that will return the numerator and denominator of a fraction.')\n",
    "print('')\n",
    "print('Ans: def getNum(self): return self.num def getDen(self): return self.den')\n",
    "print('')\n",
    "print('2. Research the __radd__ method. How does it differ from __add__? When is it used? Implement __radd__')\n",
    "print('')\n",
    "print('Ans: def __radd__(self, other): if other == 0: return self else: other = Fraction(other, 1) return self.__add__(other)')\n",
    "print('')\n",
    "print('3. Research the __repr__ method. How does it differ from __str__? When is it used? Implement __repr__.')\n",
    "print('')\n",
    "print('Ans:def __repr__(self): return %s(%r) % (self.__class__, self.__str__()) def show(self): print(self.num, \"/\", self.den) ')\n",
    "print('')\n",
    "print('4. The most simple arithmetic circuit is known as the half adder. Research the simple half-adder circuit. Implement this circuit.')\n",
    "print('')\n",
    "print('Ans: Half adder is a combinational circuit, which performs the addition of two binary numbers A and B are of single bit. It produces two outputs sum, S & carry, C. The Truth table of Half adder is shown below. Inputs Outputs A B C S 0 0 0 0 0 1 0 1 1 0 0 1 1 1 1 0')\n",
    "print('')\n",
    "print('5.Design a class to represent a playing card and another one to represent a deck of cards. Using these two classes, implement your favorite card game. ')\n",
    "print('')\n",
    "print('Ans: When you initialize the Deck object, the two for loops of _init_ create Card objects representing all the cards in a 52-card deck and add them to the card list. The first loop goes from 2 to 15 because the first value of a card is 2 and the last value of a card is 14 (the ace). Each time around the inner loop, a new card is created using the integer from the outer loop as the value (i.e. 14 for an ace) and the integer from the inner loop as the suit. This process creates 52 cards – one card for each combination of suit and value. After the method creates the cards, the shuffle method of the shuffle module randomly rearranges the items in the card list; imitating the shuffle of a deck of cards. Our deck has another method called rm_card which removes and returns a card from the card list, or returns None if it is empty.')\n",
    "print('')\n",
    "print('7.Consider a real life situation. Formulate a question and then design a simulation that can help to answer it. Possible situations include:Cars lined up at a car washCustomers at a grocery store check-outAirplanes taking off and landing on a runwayA bank teller ')\n",
    "print('')\n",
    "print('8.Implement a queue using linked lists.')\n",
    "print('')\n",
    "print(' Ans: A linked list (LL) node # to store a queue entry class Node: def __init__(self, data): self.data = data self.next = None # A class to represent a queue # The queue, front stores the front node # of LL and rear stores the last node of LL class Queue: def __init__(self): self.front = self.rear = None def isEmpty(self): return self.front == None # Method to add an item to the queue def EnQueue(self, item): temp = Node(item) if self.rear == None: self.front = self.rear = temp return self.rear.next = temp self.rear = temp # Method to remove an item from queue def DeQueue(self): if self.isEmpty(): return temp = self.front self.front = temp.next if(self.front == None): self.rear = None # Driver Code if _name__== : q = Queue() q.EnQueue(10) q.EnQueue(20) q.DeQueue() q.DeQueue() q.EnQueue(30) q.EnQueue(40) q.EnQueue(50) q.DeQueue() print(\"Queue Front \" + str(q.front.data)) print\"Queue Rear \" + str(q.rear.data))')\n",
    "print('')\n",
    "print('9. Write a recursive function to compute the factorial of a number.')\n",
    "print('')\n",
    "print('Ans: def recur_factorial(n): if n == 1: return n else: return n*recur_factorial(n-1) num = 7 # check if the number is negative if num < 0: print(\"Sorry, factorial does not exist for negative numbers\") elif num == 0: print(\"The factorial of 0 is 1\") else: print(\"The factorial of\", num, \"is\", recur_factorial(num))')\n",
    "print('')\n",
    "print('10. Set up a random experiment to test the difference between a sequential search and a binary search on a list of integers.')\n",
    "print('')\n",
    "print('Ans:.\tWe toss a coin three times and observe the sequence of heads/tails. The sample space here may be defined as S={(H,H,H),(H,H,T),(H,T,H),(T,H,H),(H,T,T),(T,H,T),(T,T,H),(T,T,T)}. Our goal is to assign probability to certain events. For example, suppose that we would like to know the probability that the outcome of rolling a fair die is an even number. In this case, our event is the set E={2,4,6}. If the result of our random experiment belongs to the set E, we say that the event E has occurred. Thus an event is a collection of possible outcomes. In other words, an event is a subset of the sample space to which we assign a probability. Although we have not yet discussed how to find the probability of an event, you might be able to guess that the probability of {2,4,6} is 50 percent which is the same as 12 in the probability theory convention. Outcome: A result of a random experiment. Sample Space: The set of all possible outcomes. Event: A subset of the sample space.')\n",
    "print('')\n",
    "print('11.Suppose you are a computer scientist/art thief who has broken into a major art gallery. All you have with you to haul out your stolen art is your knapsack which only holds W pounds of art, but for every piece of art you know its value and its weight. Write a dynamic programming function to help you maximize your profit. Here is a sample problem for you to use to get started: Suppose your knapsack can hold a total weight of 20. You have 5 items as follows: ')\n",
    "print('')\n",
    "print('This problem is called the string edit distance problem, and is quite useful in many areas of research. Suppose that you want to transform the word “algorithm” into the word “alligator.” For each letter you can either copy the letter from one word to another at a cost of 5, you can delete a letter at cost of 20, or insert a letter at a cost of 20. The total cost to transform one word into another is used by spell check programs to provide suggestions for words that are close to one another.')\n"
   ]
  },
  {
   "cell_type": "code",
   "execution_count": null,
   "id": "decent-reporter",
   "metadata": {},
   "outputs": [],
   "source": []
  }
 ],
 "metadata": {
  "kernelspec": {
   "display_name": "Python 3",
   "language": "python",
   "name": "python3"
  },
  "language_info": {
   "codemirror_mode": {
    "name": "ipython",
    "version": 3
   },
   "file_extension": ".py",
   "mimetype": "text/x-python",
   "name": "python",
   "nbconvert_exporter": "python",
   "pygments_lexer": "ipython3",
   "version": "3.9.2"
  }
 },
 "nbformat": 4,
 "nbformat_minor": 5
}
